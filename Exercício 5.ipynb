{
 "cells": [
  {
   "cell_type": "code",
   "execution_count": 2,
   "id": "4dc5e228-5c1a-486a-b46b-30b3e3a45a99",
   "metadata": {},
   "outputs": [
    {
     "name": "stdout",
     "output_type": "stream",
     "text": [
      "Michal thomas Has big Balls\n"
     ]
    }
   ],
   "source": [
    "print(\"Michal thomas Has big Balls\")"
   ]
  },
  {
   "cell_type": "code",
   "execution_count": null,
   "id": "6a5eb624-0872-47bf-9950-5cabcdd06c99",
   "metadata": {},
   "outputs": [],
   "source": []
  }
 ],
 "metadata": {
  "kernelspec": {
   "display_name": "Python",
   "language": "python",
   "name": "conda-env-python-py"
  },
  "language_info": {
   "codemirror_mode": {
    "name": "ipython",
    "version": 3
   },
   "file_extension": ".py",
   "mimetype": "text/x-python",
   "name": "python",
   "nbconvert_exporter": "python",
   "pygments_lexer": "ipython3",
   "version": "3.6.13"
  }
 },
 "nbformat": 4,
 "nbformat_minor": 5
}
